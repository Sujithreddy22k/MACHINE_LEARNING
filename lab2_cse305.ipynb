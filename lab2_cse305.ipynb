{
  "nbformat": 4,
  "nbformat_minor": 0,
  "metadata": {
    "colab": {
      "provenance": []
    },
    "kernelspec": {
      "name": "python3",
      "display_name": "Python 3"
    },
    "language_info": {
      "name": "python"
    }
  },
  "cells": [
    {
      "cell_type": "code",
      "execution_count": null,
      "metadata": {
        "colab": {
          "base_uri": "https://localhost:8080/"
        },
        "id": "Gbv_4X38R2Dt",
        "outputId": "e4e48130-764f-4bf3-ef1a-f4f1d010575f"
      },
      "outputs": [
        {
          "output_type": "execute_result",
          "data": {
            "text/plain": [
              "array([[2, 4, 2, 3, 4],\n",
              "       [4, 2, 2, 4, 3],\n",
              "       [1, 1, 1, 2, 3],\n",
              "       [3, 3, 3, 2, 2]])"
            ]
          },
          "metadata": {},
          "execution_count": 1
        }
      ],
      "source": [
        "\n",
        " import numpy as np\n",
        " np.random.randint(1, 5, size=(4, 5))"
      ]
    },
    {
      "cell_type": "code",
      "source": [
        "from numpy import random\n",
        "arr = random.randint(8,size=(1,4))\n",
        "print(\"Original Array : \\n\",arr)\n",
        "newarr =  arr.reshape(2,2)\n",
        "print(\"\\nConvert it to a 2D array with 2 rows : \\n\",newarr)\n"
      ],
      "metadata": {
        "colab": {
          "base_uri": "https://localhost:8080/"
        },
        "id": "9-pOq_hCSvTW",
        "outputId": "cb7ce969-1d54-405b-f801-f0dccf92df06"
      },
      "execution_count": null,
      "outputs": [
        {
          "output_type": "stream",
          "name": "stdout",
          "text": [
            "Original Array : \n",
            " [[7 0 3 5]]\n",
            "\n",
            "Convert it to a 2D array with 2 rows : \n",
            " [[7 0]\n",
            " [3 5]]\n"
          ]
        }
      ]
    },
    {
      "cell_type": "code",
      "source": [
        "import numpy as np\n",
        "fvalues = [0, 15, 66.21, 24, 91.91, 42]\n",
        "F = np.array(fvalues)\n",
        "print(\"Values in Fahrenheit degrees:\")\n",
        "print(F)\n",
        "print(\"Values in  Centigrade degrees:\")\n",
        "print(np.round((5*F/9 - 5*32/9),2))"
      ],
      "metadata": {
        "colab": {
          "base_uri": "https://localhost:8080/"
        },
        "id": "AgvAfWfSTci5",
        "outputId": "7124cbd9-5a85-4aa8-be26-b896f8d855fb"
      },
      "execution_count": null,
      "outputs": [
        {
          "output_type": "stream",
          "name": "stdout",
          "text": [
            "Values in Fahrenheit degrees:\n",
            "[ 0.   15.   66.21 24.   91.91 42.  ]\n",
            "Values in  Centigrade degrees:\n",
            "[-17.78  -9.44  19.01  -4.44  33.28   5.56]\n"
          ]
        }
      ]
    },
    {
      "cell_type": "code",
      "source": [
        "arr = np.array([1,5,6,7,8])\n",
        "print(arr)\n",
        "print(\"no of Dimensions : \",arr.ndim)\n",
        "print(\"no of Elements : \",arr.size)\n",
        "print(\"no of Bytes : \",arr.itemsize)"
      ],
      "metadata": {
        "colab": {
          "base_uri": "https://localhost:8080/"
        },
        "id": "W68nej8pTl1a",
        "outputId": "76413a01-7c3c-41d6-f248-0e8e5665fea6"
      },
      "execution_count": null,
      "outputs": [
        {
          "output_type": "stream",
          "name": "stdout",
          "text": [
            "[1 5 6 7 8]\n",
            "no of Dimensions :  1\n",
            "no of Elements :  5\n",
            "no of Bytes :  8\n"
          ]
        }
      ]
    },
    {
      "cell_type": "code",
      "source": [
        "ar = random.randint(8,size=(3,4))\n",
        "print(ar)\n",
        "print(\"Extract third and fourth elements from second and third row : \")\n",
        "print(ar[1:3,2:4])"
      ],
      "metadata": {
        "colab": {
          "base_uri": "https://localhost:8080/"
        },
        "id": "VnqKJ8PrUUYW",
        "outputId": "ebc16f8e-2f1b-4f19-a93f-b65c7083d862"
      },
      "execution_count": null,
      "outputs": [
        {
          "output_type": "stream",
          "name": "stdout",
          "text": [
            "[[5 5 6 4]\n",
            " [7 3 7 4]\n",
            " [3 6 5 0]]\n",
            "Extract third and fourth elements from second and third row : \n",
            "[[7 4]\n",
            " [5 0]]\n"
          ]
        }
      ]
    },
    {
      "cell_type": "code",
      "source": [
        "ur = int(input(\"Enter the Number : \"))\n",
        "a,b,l=0,1,0\n",
        "next=0\n",
        "for i in range(num+1): # 0,1,1,2,3,5,8,13,21,34,..............\n",
        "  next=a+b\n",
        "  a=b\n",
        "  b=next\n",
        "  if next==num:\n",
        "    print(\"It's a Fibonacci Number\")\n",
        "    l=1\n",
        "    break\n",
        "if(l!=1):\n",
        "  print(\"It's not a Fibonacci Number\")"
      ],
      "metadata": {
        "colab": {
          "base_uri": "https://localhost:8080/",
          "height": 253
        },
        "id": "m0Ykh_y0UzBH",
        "outputId": "cf777c8e-e942-4ab0-8500-cd3828e478a6"
      },
      "execution_count": null,
      "outputs": [
        {
          "name": "stdout",
          "output_type": "stream",
          "text": [
            "Enter the Number : 55\n"
          ]
        },
        {
          "output_type": "error",
          "ename": "NameError",
          "evalue": "ignored",
          "traceback": [
            "\u001b[0;31m---------------------------------------------------------------------------\u001b[0m",
            "\u001b[0;31mNameError\u001b[0m                                 Traceback (most recent call last)",
            "\u001b[0;32m<ipython-input-14-a0b847b97bed>\u001b[0m in \u001b[0;36m<module>\u001b[0;34m\u001b[0m\n\u001b[1;32m      2\u001b[0m \u001b[0ma\u001b[0m\u001b[0;34m,\u001b[0m\u001b[0mb\u001b[0m\u001b[0;34m,\u001b[0m\u001b[0ml\u001b[0m\u001b[0;34m=\u001b[0m\u001b[0;36m0\u001b[0m\u001b[0;34m,\u001b[0m\u001b[0;36m1\u001b[0m\u001b[0;34m,\u001b[0m\u001b[0;36m0\u001b[0m\u001b[0;34m\u001b[0m\u001b[0;34m\u001b[0m\u001b[0m\n\u001b[1;32m      3\u001b[0m \u001b[0mnext\u001b[0m\u001b[0;34m=\u001b[0m\u001b[0;36m0\u001b[0m\u001b[0;34m\u001b[0m\u001b[0;34m\u001b[0m\u001b[0m\n\u001b[0;32m----> 4\u001b[0;31m \u001b[0;32mfor\u001b[0m \u001b[0mi\u001b[0m \u001b[0;32min\u001b[0m \u001b[0mrange\u001b[0m\u001b[0;34m(\u001b[0m\u001b[0mnum\u001b[0m\u001b[0;34m+\u001b[0m\u001b[0;36m1\u001b[0m\u001b[0;34m)\u001b[0m\u001b[0;34m:\u001b[0m \u001b[0;31m# 0,1,1,2,3,5,8,13,21,34,..............\u001b[0m\u001b[0;34m\u001b[0m\u001b[0;34m\u001b[0m\u001b[0m\n\u001b[0m\u001b[1;32m      5\u001b[0m   \u001b[0mnext\u001b[0m\u001b[0;34m=\u001b[0m\u001b[0ma\u001b[0m\u001b[0;34m+\u001b[0m\u001b[0mb\u001b[0m\u001b[0;34m\u001b[0m\u001b[0;34m\u001b[0m\u001b[0m\n\u001b[1;32m      6\u001b[0m   \u001b[0ma\u001b[0m\u001b[0;34m=\u001b[0m\u001b[0mb\u001b[0m\u001b[0;34m\u001b[0m\u001b[0;34m\u001b[0m\u001b[0m\n",
            "\u001b[0;31mNameError\u001b[0m: name 'num' is not defined"
          ]
        }
      ]
    },
    {
      "cell_type": "code",
      "source": [
        "array = list(map(int,input(\"Enter array : \").split()))\n",
        "p = int(input(\"Enter kth position : \"))\n",
        "u=[]\n",
        "for t in range(p-1,len(array)):\n",
        "  u.append(array[t])\n",
        "for t in range(0,p-1):\n",
        "  u.append(array[t])\n",
        "print(u)"
      ],
      "metadata": {
        "colab": {
          "base_uri": "https://localhost:8080/"
        },
        "id": "ShkyYQx3Uy97",
        "outputId": "8e0386b8-9be6-4b77-a16f-ae0d0480fbf0"
      },
      "execution_count": null,
      "outputs": [
        {
          "output_type": "stream",
          "name": "stdout",
          "text": [
            "Enter array : 2 6 7 8\n",
            "Enter kth position : 2\n",
            "[6, 7, 8, 2]\n"
          ]
        }
      ]
    },
    {
      "cell_type": "code",
      "source": [
        "t=input(\"Enter the digit : \")\n",
        "num=int(input(\"Enter the num : \"))\n",
        "s=0\n",
        "for i in t:\n",
        "  if int(i)%num==0:\n",
        "    s+=1\n",
        "if s==len(t):\n",
        "  print(\"all numbers are divisible by the given num\")\n",
        "else:\n",
        "  print(\"Can't divide\")"
      ],
      "metadata": {
        "colab": {
          "base_uri": "https://localhost:8080/"
        },
        "id": "l0AETuc6W7MB",
        "outputId": "1b93831a-2d00-416d-e54d-c5aad0595326"
      },
      "execution_count": null,
      "outputs": [
        {
          "output_type": "stream",
          "name": "stdout",
          "text": [
            "Enter the digit : 44\n",
            "Enter the num : 23\n",
            "Can't divide\n"
          ]
        }
      ]
    },
    {
      "cell_type": "code",
      "source": [
        "m = int(input(\"Enter the Number : \"))\n",
        "a,b,l=0,1,0\n",
        "next=0\n",
        "for i in range(num+1): # 0,1,1,2,3,5,8,13,21,34,..............\n",
        "  next=a+b\n",
        "  a=b\n",
        "  b=next\n",
        "  if next==num:\n",
        "    print(\"It's a Fibonacci Number\")\n",
        "    l=1\n",
        "    break\n",
        "if(l!=1):\n",
        "  print(\"It's not a Fibonacci Number\")"
      ],
      "metadata": {
        "colab": {
          "base_uri": "https://localhost:8080/"
        },
        "id": "iBEdbTEJXnLY",
        "outputId": "f94908ea-4e68-4911-dd82-364123d120dc"
      },
      "execution_count": null,
      "outputs": [
        {
          "output_type": "stream",
          "name": "stdout",
          "text": [
            "Enter the Number : 33\n",
            "It's not a Fibonacci Number\n"
          ]
        }
      ]
    },
    {
      "cell_type": "code",
      "source": [
        "v= list(map(int,input(\"Enter the range(Ex : 2 14) : \").split()))\n",
        "x=[]\n",
        "if(v[0]<v[1]):\n",
        "  for i in range(v[0],v[1]+1):\n",
        "    if i>1:\n",
        "      for j in range(2,int(i/2)+1):\n",
        "        if((i%j)==0):\n",
        "          break\n",
        "      else:\n",
        "        x.append(i)\n",
        "print(x)"
      ],
      "metadata": {
        "colab": {
          "base_uri": "https://localhost:8080/"
        },
        "id": "VDcTC8aEZI-5",
        "outputId": "2e0ba02f-f3cf-4b5d-c139-1269e92db54d"
      },
      "execution_count": null,
      "outputs": [
        {
          "output_type": "stream",
          "name": "stdout",
          "text": [
            "Enter the range(Ex : 2 14) : 3 13\n",
            "[3, 5, 7, 11, 13]\n"
          ]
        }
      ]
    }
  ]
}